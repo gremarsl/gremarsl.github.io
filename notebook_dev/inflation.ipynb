{
 "cells": [
  {
   "cell_type": "code",
   "execution_count": null,
   "id": "e7abef1b",
   "metadata": {},
   "outputs": [
    {
     "name": "stdout",
     "output_type": "stream",
     "text": [
      "Das sind deine angenommenen Finanz-Inputparameter:\n",
      "- Kaufpreis:                500,000 €\n",
      "- Nettojahreseinkommen:     60,000 €\n",
      "- Monatskaltmiete:          1,500 €\n"
     ]
    }
   ],
   "source": [
    "# Financial input parameter\n",
    "housing_cost = 500000 # in euros\n",
    "netto_income_per_anno = 60000 # in euros\n",
    "cold_rent_per_month = 1500 # in euros\n",
    "\n",
    "print(\"Das sind deine angenommenen Finanz-Inputparameter:\")\n",
    "print(f\"- Kaufpreis:                {housing_cost:,.0f} €\")\n",
    "print(f\"- Nettojahreseinkommen:     {netto_income_per_anno:,.0f} €\")\n",
    "print(f\"- Monatskaltmiete:          {cold_rent_per_month:,.0f} €\")\n"
   ]
  },
  {
   "cell_type": "code",
   "execution_count": 26,
   "id": "f5298213",
   "metadata": {},
   "outputs": [
    {
     "name": "stdout",
     "output_type": "stream",
     "text": [
      "Kaufpreis-Jahreseinkommen Index: 8.33.\n"
     ]
    }
   ],
   "source": [
    "print(f\"Kaufpreis-Jahreseinkommen Index: {housing_cost/netto_income_per_anno:.2f}.\")"
   ]
  },
  {
   "cell_type": "code",
   "execution_count": null,
   "id": "1583f271",
   "metadata": {},
   "outputs": [
    {
     "name": "stdout",
     "output_type": "stream",
     "text": [
      "Vervielfältiger-Index Kaufpreis-Jahreskaltmiete: 27.78.\n"
     ]
    }
   ],
   "source": [
    "print(f\"Vervielfältiger-Index Kaufpreis-Jahreskaltmiete: {housing_cost/(cold_rent_per_month*12):.2f}.\")"
   ]
  },
  {
   "cell_type": "code",
   "execution_count": 28,
   "id": "be774ee2",
   "metadata": {},
   "outputs": [],
   "source": [
    "# Durchschnittliche Steigerungen pro Jahr\n",
    "average_inflation_rate = 0.02 # 2% inflation rate\n",
    "average_salary_increase_rate = 0.01 # 3% salary increase rate\n",
    "average_rent_increase_rate = 0.02 # 2% rent increase rate\n"
   ]
  },
  {
   "cell_type": "code",
   "execution_count": 29,
   "id": "1f9dc3d9",
   "metadata": {},
   "outputs": [
    {
     "name": "stdout",
     "output_type": "stream",
     "text": [
      "Berechnungszeitraum: 10 Jahre\n"
     ]
    }
   ],
   "source": [
    "# Beispiel für die Verwendung des Sliders\n",
    "years = 10\n",
    "print(f\"Berechnungszeitraum: {years} Jahre\")"
   ]
  },
  {
   "cell_type": "code",
   "execution_count": null,
   "id": "ce50655d",
   "metadata": {},
   "outputs": [
    {
     "name": "stdout",
     "output_type": "stream",
     "text": [
      "Vervielfältiger nach 10 Jahren mit 2% Mietsteigerung: 22.79\n"
     ]
    }
   ],
   "source": [
    "# Unter Berücksichtigung von Mietsteigerungen von 2% pro Jahr\n",
    "kaltmiete_in_n_jahren = cold_rent_per_month * (1 + average_rent_increase_rate) ** years\n",
    "\n",
    "vervielfaeltiger_in_n_jahren = (housing_cost) / (kaltmiete_in_n_jahren * 12)\n",
    "\n",
    "print(f\"Vervielfältiger nach {years} Jahren mit 2% Mietsteigerung: {vervielfaeltiger_in_n_jahren:.2f}\")\n"
   ]
  },
  {
   "cell_type": "code",
   "execution_count": 31,
   "id": "fac25e2f",
   "metadata": {},
   "outputs": [
    {
     "name": "stdout",
     "output_type": "stream",
     "text": [
      "Kaufpreis-Jahreseinkommens Index nach 10 Jahren mit 2% Gehaltssteigerung: 7.54\n"
     ]
    }
   ],
   "source": [
    "# Unter Berücksichtigung von Einkommenssteigerung von 2% pro Jahr\n",
    "netto_income_after_n_years = netto_income_per_anno * (1 + average_salary_increase_rate) ** years\n",
    "\n",
    "cost_to_income_index = (housing_cost) / (netto_income_after_n_years)\n",
    "\n",
    "print(f\"Kaufpreis-Jahreseinkommens Index nach {years} Jahren mit 2% Gehaltssteigerung: {cost_to_income_index:.2f}\")\n"
   ]
  },
  {
   "cell_type": "code",
   "execution_count": null,
   "id": "bfd28e24",
   "metadata": {},
   "outputs": [],
   "source": []
  },
  {
   "cell_type": "code",
   "execution_count": 32,
   "id": "b2a909c5",
   "metadata": {},
   "outputs": [
    {
     "name": "stdout",
     "output_type": "stream",
     "text": [
      "Gesamte Zinszahlungen: -13860.0\n"
     ]
    }
   ],
   "source": [
    "# Non Productive Code\n",
    "# Berechnung der zu zahlenden Zinsen über 10 Jahre\n",
    "# Annahme: Jährliche Zinszahlung bleibt konstant (vereinfachte Annahme)\n",
    "credit = 30000 # Kreditbetrag in Tausend Euro\n",
    "zeitraum = 10\n",
    "abzahlung = 1200*12 # Abzahlung pro Jahr in Euro\n",
    "zins = 0.03 # Zinssatz pro Jahr\n",
    "\n",
    "summe = sum((credit - i * abzahlung)*zins for i in range(0, zeitraum+1))\n",
    "print(f\"Gesamte Zinszahlungen: {summe}\")"
   ]
  }
 ],
 "metadata": {
  "kernelspec": {
   "display_name": "Python 3",
   "language": "python",
   "name": "python3"
  },
  "language_info": {
   "codemirror_mode": {
    "name": "ipython",
    "version": 3
   },
   "file_extension": ".py",
   "mimetype": "text/x-python",
   "name": "python",
   "nbconvert_exporter": "python",
   "pygments_lexer": "ipython3",
   "version": "3.13.5"
  }
 },
 "nbformat": 4,
 "nbformat_minor": 5
}
