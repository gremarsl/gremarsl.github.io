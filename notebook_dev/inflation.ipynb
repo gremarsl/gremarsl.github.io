{
 "cells": [
  {
   "cell_type": "code",
   "execution_count": 1,
   "id": "e7abef1b",
   "metadata": {},
   "outputs": [
    {
     "name": "stdout",
     "output_type": "stream",
     "text": [
      "Das sind deine angenommenen Finanz-Inputparameter:\n",
      "- Kaufpreis:                500,000 €\n",
      "- Nettojahreseinkommen:     60,000 €\n",
      "- Monatskaltmiete:          1,500 €\n"
     ]
    }
   ],
   "source": [
    "# Financial input parameter\n",
    "housing_cost = 500000 # in euros\n",
    "netto_income_per_anno = 60000 # in euros\n",
    "cold_rent_per_month = 1500 # in euros\n",
    "\n",
    "print(\"Das sind deine angenommenen Finanz-Inputparameter:\")\n",
    "print(f\"- Kaufpreis:                {housing_cost:,.0f} €\")\n",
    "print(f\"- Nettojahreseinkommen:     {netto_income_per_anno:,.0f} €\")\n",
    "print(f\"- Monatskaltmiete:          {cold_rent_per_month:,.0f} €\")\n"
   ]
  },
  {
   "cell_type": "code",
   "execution_count": 2,
   "id": "f5298213",
   "metadata": {},
   "outputs": [
    {
     "name": "stdout",
     "output_type": "stream",
     "text": [
      "Kaufpreis-Jahreseinkommen Index: 8.33.\n"
     ]
    }
   ],
   "source": [
    "print(f\"Kaufpreis-Jahreseinkommen Index: {housing_cost/netto_income_per_anno:.2f}.\")"
   ]
  },
  {
   "cell_type": "code",
   "execution_count": 3,
   "id": "1583f271",
   "metadata": {},
   "outputs": [
    {
     "name": "stdout",
     "output_type": "stream",
     "text": [
      "Vervielfältiger-Index Kaufpreis-Jahreskaltmiete: 27.78.\n"
     ]
    }
   ],
   "source": [
    "print(f\"Vervielfältiger-Index Kaufpreis-Jahreskaltmiete: {housing_cost/(cold_rent_per_month*12):.2f}.\")"
   ]
  },
  {
   "cell_type": "code",
   "execution_count": 4,
   "id": "be774ee2",
   "metadata": {},
   "outputs": [],
   "source": [
    "# Durchschnittliche Steigerungen pro Jahr\n",
    "average_inflation_rate = 0.02 # 2% inflation rate\n",
    "average_salary_increase_rate = 0.01 # 3% salary increase rate\n",
    "average_rent_increase_rate = 0.02 # 2% rent increase rate\n"
   ]
  },
  {
   "cell_type": "code",
   "execution_count": 5,
   "id": "1f9dc3d9",
   "metadata": {},
   "outputs": [
    {
     "name": "stdout",
     "output_type": "stream",
     "text": [
      "Berechnungszeitraum: 10 Jahre\n"
     ]
    }
   ],
   "source": [
    "# Beispiel für die Verwendung des Sliders\n",
    "years = 10\n",
    "print(f\"Berechnungszeitraum: {years} Jahre\")"
   ]
  },
  {
   "cell_type": "code",
   "execution_count": 6,
   "id": "ce50655d",
   "metadata": {},
   "outputs": [
    {
     "name": "stdout",
     "output_type": "stream",
     "text": [
      "Vervielfältiger nach 10 Jahren mit 2% Mietsteigerung: 22.79\n"
     ]
    }
   ],
   "source": [
    "# Unter Berücksichtigung von Mietsteigerungen von 2% pro Jahr\n",
    "kaltmiete_in_n_jahren = cold_rent_per_month * (1 + average_rent_increase_rate) ** years\n",
    "\n",
    "vervielfaeltiger_in_n_jahren = (housing_cost) / (kaltmiete_in_n_jahren * 12)\n",
    "\n",
    "print(f\"Vervielfältiger nach {years} Jahren mit 2% Mietsteigerung: {vervielfaeltiger_in_n_jahren:.2f}\")\n"
   ]
  },
  {
   "cell_type": "code",
   "execution_count": 7,
   "id": "fac25e2f",
   "metadata": {},
   "outputs": [
    {
     "name": "stdout",
     "output_type": "stream",
     "text": [
      "Kaufpreis-Jahreseinkommens Index nach 10 Jahren mit 2% Gehaltssteigerung: 7.54\n"
     ]
    }
   ],
   "source": [
    "# Unter Berücksichtigung von Einkommenssteigerung von 2% pro Jahr\n",
    "netto_income_after_n_years = netto_income_per_anno * (1 + average_salary_increase_rate) ** years\n",
    "\n",
    "cost_to_income_index = (housing_cost) / (netto_income_after_n_years)\n",
    "\n",
    "print(f\"Kaufpreis-Jahreseinkommens Index nach {years} Jahren mit 2% Gehaltssteigerung: {cost_to_income_index:.2f}\")\n"
   ]
  },
  {
   "cell_type": "code",
   "execution_count": null,
   "id": "bfd28e24",
   "metadata": {},
   "outputs": [],
   "source": []
  },
  {
   "cell_type": "code",
   "execution_count": 8,
   "id": "b2a909c5",
   "metadata": {},
   "outputs": [
    {
     "name": "stdout",
     "output_type": "stream",
     "text": [
      "Gesamte Zinszahlungen: -13860.0\n"
     ]
    }
   ],
   "source": [
    "# Non Productive Code\n",
    "# Berechnung der zu zahlenden Zinsen über 10 Jahre\n",
    "# Annahme: Jährliche Zinszahlung bleibt konstant (vereinfachte Annahme)\n",
    "credit = 30000 # Kreditbetrag in Tausend Euro\n",
    "zeitraum = 10\n",
    "abzahlung = 1200*12 # Abzahlung pro Jahr in Euro\n",
    "zins = 0.03 # Zinssatz pro Jahr\n",
    "\n",
    "summe = sum((credit - i * abzahlung)*zins for i in range(0, zeitraum+1))\n",
    "print(f\"Gesamte Zinszahlungen: {summe}\")"
   ]
  },
  {
   "cell_type": "code",
   "execution_count": 9,
   "id": "c3b16cea",
   "metadata": {},
   "outputs": [
    {
     "name": "stdout",
     "output_type": "stream",
     "text": [
      "Gesamte Mietzahlungen über 10 Jahre: 180000.00 €\n"
     ]
    }
   ],
   "source": [
    "# Berechnung der gezahlten Miete über 10 Jahre\n",
    "miete = cold_rent_per_month * 12 # Jahresmiete\n",
    "miete_in_10_jahren = miete * zeitraum\n",
    "print(f\"Gesamte Mietzahlungen über {zeitraum} Jahre: {miete_in_10_jahren:.2f} €\")"
   ]
  },
  {
   "cell_type": "code",
   "execution_count": 10,
   "id": "46450fed",
   "metadata": {},
   "outputs": [
    {
     "name": "stdout",
     "output_type": "stream",
     "text": [
      "Gesamte Mietzahlungen über 10 Jahre mit 2% Steigerung jährlich: 197094.98 €\n"
     ]
    }
   ],
   "source": [
    "# Berechnung der gezahlten Miete über 10 Jahre mit 2% Steigerung jährlich\n",
    "miete_in_10_jahren_mit_steigerung = sum(miete * (1 + average_rent_increase_rate) ** i for i in range(0, zeitraum))\n",
    "print(f\"Gesamte Mietzahlungen über {zeitraum} Jahre mit 2% Steigerung jährlich: {miete_in_10_jahren_mit_steigerung:.2f} €\")"
   ]
  },
  {
   "cell_type": "code",
   "execution_count": 11,
   "id": "d4c89ea7",
   "metadata": {},
   "outputs": [
    {
     "name": "stdout",
     "output_type": "stream",
     "text": [
      "Kaufkraft des Geldes über 10 Jahre bei 2.0% Inflation: 0.82\n"
     ]
    }
   ],
   "source": [
    "# Berechnung der Kaufkraft des Geldes über 10 Jahre\n",
    "def kaufkraft_in_10_jahren(inflation_rate, zeitraum):\n",
    "    return 1 / ((1 + inflation_rate) ** zeitraum)\n",
    "kaufkraft = kaufkraft_in_10_jahren(average_inflation_rate, zeitraum)\n",
    "print(f\"Kaufkraft des Geldes über {zeitraum} Jahre bei {average_inflation_rate*100:.1f}% Inflation: {kaufkraft:.2f}\")"
   ]
  },
  {
   "cell_type": "code",
   "execution_count": 12,
   "id": "cdda95b7",
   "metadata": {},
   "outputs": [
    {
     "name": "stdout",
     "output_type": "stream",
     "text": [
      "Gesamte Abzahlungen über 4 Jahre: 48000.00 €\n",
      "Offener Kredit nach 1 Monaten: 4004.17 €\n"
     ]
    }
   ],
   "source": [
    "# Zinszahlungen\n",
    "credit = 5000 # Kreditbetrag in Euro\n",
    "zins_jahr = 0.01 # Zinssatz pro Jahr\n",
    "zins_monat = zins_jahr / 12 # Zinssatz pro Monat\n",
    "zins = zins_monat\n",
    "zeitraum = 4 # Zeitraum in Jahren\n",
    "zeitraum_monate = 1 # Zeitraum in Monaten\n",
    "t = 1000 # Abzahlung pro Monat in Euro\n",
    "\n",
    "\n",
    "# Berechnung der Zahlungen\n",
    "abzahlungen = zeitraum*t*12 # Gesamte Abzahlungen in Euro\n",
    "print(f\"Gesamte Abzahlungen über {zeitraum} Jahre: {abzahlungen:.2f} €\")\n",
    " \n",
    "# The below line is the mathematicall correct! with -1\n",
    "# But since python is stupid, sum from 0 to 0 is empty and therefor sum is 0\n",
    "# result_with_abzahlung = credit * (1 + zins) ** zeitraum_monate - sum((t*(1+zins)**k) for k in range(0, zeitraum_monate -1))\n",
    "\n",
    "result_with_abzahlung = credit * (1 + zins) ** zeitraum_monate - sum((t*(1+zins)**k) for k in range(0, zeitraum_monate))\n",
    "print(f\"Offener Kredit nach {zeitraum_monate} Monaten: {result_with_abzahlung:.2f} €\")\n",
    "\n",
    "\n"
   ]
  },
  {
   "cell_type": "code",
   "execution_count": 30,
   "id": "299be5ac",
   "metadata": {},
   "outputs": [
    {
     "name": "stdout",
     "output_type": "stream",
     "text": [
      "Restschuld nach 1 Monaten: 4004.17 €\n",
      "Restschuld nach 2 Monaten: 3007.50 €\n",
      "Restschuld nach 3 Monaten: 2010.01 €\n",
      "Restschuld nach 4 Monaten: 1011.68 €\n",
      "Restschuld nach 5 Monaten: 12.53 €\n",
      "Kredit abbezahlt nach 6 Monaten.\n",
      "Gezahlte Zinsen: 12.54 €\n"
     ]
    }
   ],
   "source": [
    "# Zinszahlungen\n",
    "credit = 5000 # Kreditbetrag in Euro\n",
    "zins_jahr = 0.01 # Zinssatz pro Jahr\n",
    "zins_monat = zins_jahr / 12 # Zinssatz pro Monat\n",
    "zins = zins_monat\n",
    "zeitraum = 4 # Zeitraum in Jahren\n",
    "zeitraum_monate = 4*12 # Zeitraum in Monaten\n",
    "t = 1000 # Abzahlung pro Monat in Euro\n",
    "\n",
    "###########\n",
    "restschuld = credit\n",
    "i=0\n",
    "while(restschuld >= 0):\n",
    "    restschuld = restschuld * (1 + zins_monat) - t\n",
    "    if restschuld <= 0:\n",
    "        print(f\"Kredit abbezahlt nach {i+1} Monaten.\")\n",
    "        print(f\"Gezahlte Zinsen: {t*i+(t+restschuld) - credit:.2f} €\")\n",
    "        break\n",
    "    print(f\"Restschuld nach {i+1} Monaten: {restschuld:.2f} €\")\n",
    "    i+=1\n",
    "\n"
   ]
  }
 ],
 "metadata": {
  "kernelspec": {
   "display_name": "Python 3",
   "language": "python",
   "name": "python3"
  },
  "language_info": {
   "codemirror_mode": {
    "name": "ipython",
    "version": 3
   },
   "file_extension": ".py",
   "mimetype": "text/x-python",
   "name": "python",
   "nbconvert_exporter": "python",
   "pygments_lexer": "ipython3",
   "version": "3.13.5"
  }
 },
 "nbformat": 4,
 "nbformat_minor": 5
}
